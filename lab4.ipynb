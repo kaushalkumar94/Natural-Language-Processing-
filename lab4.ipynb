{
 "cells": [
  {
   "cell_type": "markdown",
   "id": "e9dcc94f-ad7a-4903-aad4-8fab4808731b",
   "metadata": {},
   "source": [
    "## N Gram tagging "
   ]
  },
  {
   "cell_type": "code",
   "execution_count": 1,
   "id": "226a9a73-709c-478e-8e1a-579b50585193",
   "metadata": {},
   "outputs": [],
   "source": [
    "import nltk\n",
    "from nltk.util import ngrams\n",
    "from nltk.tokenize import word_tokenize"
   ]
  },
  {
   "cell_type": "code",
   "execution_count": 26,
   "id": "a9acb8e2-1a3b-4210-bc5a-999baca5c531",
   "metadata": {},
   "outputs": [
    {
     "name": "stderr",
     "output_type": "stream",
     "text": [
      "[nltk_data] Downloading package brown to\n",
      "[nltk_data]     C:\\Users\\kaush\\AppData\\Roaming\\nltk_data...\n",
      "[nltk_data]   Package brown is already up-to-date!\n"
     ]
    },
    {
     "name": "stdout",
     "output_type": "stream",
     "text": [
      "(('The', 'AT'), ('Fulton', 'NP-TL'))\n",
      "(('Fulton', 'NP-TL'), ('County', 'NN-TL'))\n",
      "(('County', 'NN-TL'), ('Grand', 'JJ-TL'))\n",
      "(('Grand', 'JJ-TL'), ('Jury', 'NN-TL'))\n",
      "(('Jury', 'NN-TL'), ('said', 'VBD'))\n"
     ]
    }
   ],
   "source": [
    "## bi-gram tagging on brown corpus \n",
    "import nltk\n",
    "from nltk.corpus import brown\n",
    "from nltk.util import ngrams\n",
    "from nltk.corpus import treebank\n",
    "\n",
    "nltk.download('brown')\n",
    "\n",
    "tagged_words = brown.tagged_words()\n",
    "tagged_bigrams = list(ngrams(tagged_words, 2))\n",
    "for bg in tagged_bigrams[:5]:\n",
    "    print(bg)\n"
   ]
  },
  {
   "cell_type": "code",
   "execution_count": 23,
   "id": "9cb398ca-2fac-42bc-b4ed-4c0ce4040012",
   "metadata": {
    "jp-MarkdownHeadingCollapsed": true
   },
   "outputs": [
    {
     "name": "stderr",
     "output_type": "stream",
     "text": [
      "[nltk_data] Downloading package treebank to\n",
      "[nltk_data]     C:\\Users\\kaush\\AppData\\Roaming\\nltk_data...\n",
      "[nltk_data]   Package treebank is already up-to-date!\n",
      "[nltk_data] Downloading package punkt to\n",
      "[nltk_data]     C:\\Users\\kaush\\AppData\\Roaming\\nltk_data...\n",
      "[nltk_data]   Package punkt is already up-to-date!\n"
     ]
    },
    {
     "name": "stdout",
     "output_type": "stream",
     "text": [
      "[('The', 'DT'), ('quick', 'JJ'), ('brown', 'NN'), ('fox', 'NN'), ('jumped', 'VBD'), ('over', 'RP'), ('the', 'DT'), ('lazy', 'NN'), ('dog', 'NN'), ('.', '.')]\n"
     ]
    }
   ],
   "source": [
    "## Combining unigram , bigram and default tagger \n",
    "import nltk\n",
    "from nltk.tag import DefaultTagger, UnigramTagger, BigramTagger\n",
    "from nltk.corpus import treebank\n",
    "\n",
    "nltk.download('treebank')\n",
    "nltk.download('punkt')\n",
    "\n",
    "train_sents = treebank.tagged_sents()[:3000]\n",
    "\n",
    "default_tagger = DefaultTagger('NN')  # tag everything as noun by default\n",
    "unigram_tagger = UnigramTagger(train_sents, backoff=default_tagger)\n",
    "bigram_tagger = BigramTagger(train_sents, backoff=unigram_tagger)\n",
    "\n",
    "custom_sent = \"The quick brown fox jumped over the lazy dog.\"\n",
    "tokens = nltk.word_tokenize(custom_sent)\n",
    "tagged = bigram_tagger.tag(tokens)\n",
    "\n",
    "print(tagged)\n",
    "\n"
   ]
  },
  {
   "cell_type": "code",
   "execution_count": 24,
   "id": "858617b2-8c2b-496c-9f88-4c8007be8319",
   "metadata": {},
   "outputs": [
    {
     "name": "stderr",
     "output_type": "stream",
     "text": [
      "C:\\Users\\kaush\\AppData\\Local\\Temp\\ipykernel_10020\\28800227.py:2: DeprecationWarning: \n",
      "  Function evaluate() has been deprecated.  Use accuracy(gold)\n",
      "  instead.\n",
      "  accuracy = bigram_tagger.evaluate(test_sents)\n"
     ]
    },
    {
     "name": "stdout",
     "output_type": "stream",
     "text": [
      "0.8810274120440319\n"
     ]
    }
   ],
   "source": [
    "test_sents = treebank.tagged_sents()[3000:]\n",
    "accuracy = bigram_tagger.evaluate(test_sents)\n",
    "print(accuracy)"
   ]
  },
  {
   "cell_type": "markdown",
   "id": "194f1ac3-c25c-466b-87c5-303bcfbd7c40",
   "metadata": {},
   "source": [
    "## Grammar AND Parsing"
   ]
  },
  {
   "cell_type": "code",
   "execution_count": null,
   "id": "17fa40a0-0b7a-46ed-947d-77d1cdd46f39",
   "metadata": {},
   "outputs": [],
   "source": [
    "import nltk\n",
    "from nltk import CFG\n",
    "\n",
    "grammar = CFG.fromstring(\"\"\"\n",
    "  S -> NP VP\n",
    "  VP -> V NP | V NP PP\n",
    "  PP -> P NP\n",
    "  NP -> Det N | Det N PP | 'I'\n",
    "  Det -> 'a' | 'the'\n",
    "  N -> 'man' | 'park' | 'dog' | 'book'\n",
    "  V -> 'saw' | 'walked'\n",
    "  P -> 'in' | 'with'\n",
    "\"\"\")\n",
    "\n",
    "sentence = \"I saw a man with a book\".split()\n",
    "parser = nltk.ChartParser(grammar)"
   ]
  },
  {
   "cell_type": "code",
   "execution_count": 14,
   "id": "eaa52146-0941-48f7-b4b8-b9e765bd8fdb",
   "metadata": {},
   "outputs": [
    {
     "data": {
      "text/plain": [
       "<Grammar with 17 productions>"
      ]
     },
     "execution_count": 14,
     "metadata": {},
     "output_type": "execute_result"
    }
   ],
   "source": [
    "grammar"
   ]
  },
  {
   "cell_type": "code",
   "execution_count": 16,
   "id": "bee06833-edc7-4923-a735-cd4c71e9ed8a",
   "metadata": {},
   "outputs": [
    {
     "data": {
      "text/plain": [
       "S"
      ]
     },
     "execution_count": 16,
     "metadata": {},
     "output_type": "execute_result"
    }
   ],
   "source": [
    "grammar.start() ## will tell from where it starts "
   ]
  },
  {
   "cell_type": "code",
   "execution_count": 15,
   "id": "20f2aa2e-b678-4671-ae92-8261dbc65321",
   "metadata": {},
   "outputs": [
    {
     "name": "stdout",
     "output_type": "stream",
     "text": [
      "Grammar with 17 productions (start state = S)\n",
      "    S -> NP VP\n",
      "    VP -> V NP\n",
      "    VP -> V NP PP\n",
      "    PP -> P NP\n",
      "    NP -> Det N\n",
      "    NP -> Det N PP\n",
      "    NP -> 'I'\n",
      "    Det -> 'a'\n",
      "    Det -> 'the'\n",
      "    N -> 'man'\n",
      "    N -> 'park'\n",
      "    N -> 'dog'\n",
      "    N -> 'book'\n",
      "    V -> 'saw'\n",
      "    V -> 'walked'\n",
      "    P -> 'in'\n",
      "    P -> 'with'\n"
     ]
    }
   ],
   "source": [
    "print (grammar) "
   ]
  },
  {
   "cell_type": "code",
   "execution_count": 17,
   "id": "cd599ec3-4f85-44cf-aac7-6f99dd9449a9",
   "metadata": {},
   "outputs": [
    {
     "data": {
      "text/plain": [
       "[S -> NP VP,\n",
       " VP -> V NP,\n",
       " VP -> V NP PP,\n",
       " PP -> P NP,\n",
       " NP -> Det N,\n",
       " NP -> Det N PP,\n",
       " NP -> 'I',\n",
       " Det -> 'a',\n",
       " Det -> 'the',\n",
       " N -> 'man',\n",
       " N -> 'park',\n",
       " N -> 'dog',\n",
       " N -> 'book',\n",
       " V -> 'saw',\n",
       " V -> 'walked',\n",
       " P -> 'in',\n",
       " P -> 'with']"
      ]
     },
     "execution_count": 17,
     "metadata": {},
     "output_type": "execute_result"
    }
   ],
   "source": [
    "grammar.productions()"
   ]
  },
  {
   "cell_type": "code",
   "execution_count": null,
   "id": "7b17ee93-4265-4eb5-827e-ae81797ed753",
   "metadata": {},
   "outputs": [
    {
     "name": "stdout",
     "output_type": "stream",
     "text": [
      "     S                               \n",
      "  ___|___________                     \n",
      " |               VP                  \n",
      " |    ___________|________            \n",
      " |   |       |            PP         \n",
      " |   |       |        ____|___        \n",
      " |   |       NP      |        NP     \n",
      " |   |    ___|___    |     ___|___    \n",
      " NP  V  Det      N   P   Det      N  \n",
      " |   |   |       |   |    |       |   \n",
      " I  saw  a      man with  a      book\n",
      "\n",
      "     S                           \n",
      "  ___|_______                     \n",
      " |           VP                  \n",
      " |    _______|___                 \n",
      " |   |           NP              \n",
      " |   |    _______|____            \n",
      " |   |   |   |        PP         \n",
      " |   |   |   |    ____|___        \n",
      " |   |   |   |   |        NP     \n",
      " |   |   |   |   |     ___|___    \n",
      " NP  V  Det  N   P   Det      N  \n",
      " |   |   |   |   |    |       |   \n",
      " I  saw  a  man with  a      book\n",
      "\n"
     ]
    }
   ],
   "source": [
    "## printing in tree format \n",
    "for tree in parser.parse(sentence):\n",
    "    tree.pretty_print()"
   ]
  },
  {
   "cell_type": "code",
   "execution_count": 18,
   "id": "b59d19a5-8641-43e1-8093-d77b89a94ce5",
   "metadata": {},
   "outputs": [
    {
     "name": "stdout",
     "output_type": "stream",
     "text": [
      "     S                           \n",
      "  ___|_______                     \n",
      " |           VP                  \n",
      " |    _______|___                 \n",
      " |   |           NP              \n",
      " |   |    _______|____            \n",
      " |   |   |   |        PP         \n",
      " |   |   |   |    ____|___        \n",
      " |   |   |   |   |        NP     \n",
      " |   |   |   |   |     ___|___    \n",
      " NP  V  Det  N   P   Det      N  \n",
      " |   |   |   |   |    |       |   \n",
      " I  saw  a  man with  a      book\n",
      "\n",
      "     S                               \n",
      "  ___|___________                     \n",
      " |               VP                  \n",
      " |    ___________|________            \n",
      " |   |       |            PP         \n",
      " |   |       |        ____|___        \n",
      " |   |       NP      |        NP     \n",
      " |   |    ___|___    |     ___|___    \n",
      " NP  V  Det      N   P   Det      N  \n",
      " |   |   |       |   |    |       |   \n",
      " I  saw  a      man with  a      book\n",
      "\n"
     ]
    }
   ],
   "source": [
    "## top-down parsing \n",
    "from nltk.parse import RecursiveDescentParser\n",
    "rd_parser = RecursiveDescentParser(grammar)\n",
    "sentence = \"I saw a man with a book\".split()\n",
    "for tree in rd_parser.parse(sentence):\n",
    "    tree.pretty_print()\n",
    "## to use this we have to first make a grammar then only we can do the parsing "
   ]
  },
  {
   "cell_type": "code",
   "execution_count": 19,
   "id": "86abb0d7-201c-402d-a190-b304e5c9cb12",
   "metadata": {},
   "outputs": [
    {
     "name": "stdout",
     "output_type": "stream",
     "text": [
      "(S (NP he) (VP (V loves) (VP (TO to) (V eat))))\n",
      "           S             \n",
      "  _________|___           \n",
      " |             VP        \n",
      " |     ________|___       \n",
      " |    |            VP    \n",
      " |    |         ___|___   \n",
      " NP   V        TO      V \n",
      " |    |        |       |  \n",
      " he loves      to     eat\n",
      "\n"
     ]
    }
   ],
   "source": [
    "## bottom up parsing \n",
    "import nltk\n",
    "from nltk import CFG\n",
    "from nltk.parse import ShiftReduceParser\n",
    "\n",
    "grammar = CFG.fromstring(\"\"\"\n",
    "  S -> NP VP\n",
    "  VP -> V VP\n",
    "  VP -> TO V\n",
    "  NP -> 'he'\n",
    "  V -> 'loves' | 'eat'\n",
    "  TO -> 'to'\n",
    "\"\"\")\n",
    "\n",
    "sr_parser = ShiftReduceParser(grammar)\n",
    "sent = 'he loves to eat'.split()\n",
    "\n",
    "for t in sr_parser.parse(sent):\n",
    "    print(t)\n",
    "    t.pretty_print()\n"
   ]
  },
  {
   "cell_type": "code",
   "execution_count": null,
   "id": "5bf54d63-5aba-4b85-af5c-49dc2d965716",
   "metadata": {},
   "outputs": [],
   "source": []
  },
  {
   "cell_type": "code",
   "execution_count": null,
   "id": "90c11503-e481-4739-ad92-1610d68c6054",
   "metadata": {},
   "outputs": [],
   "source": []
  },
  {
   "cell_type": "code",
   "execution_count": null,
   "id": "551f946f-4aac-49b5-84e1-de96ec07c938",
   "metadata": {},
   "outputs": [],
   "source": [
    "## "
   ]
  },
  {
   "cell_type": "code",
   "execution_count": null,
   "id": "9285c38b-333f-4287-bbd0-6a04774ae11a",
   "metadata": {},
   "outputs": [],
   "source": []
  }
 ],
 "metadata": {
  "kernelspec": {
   "display_name": "Python 3 (ipykernel)",
   "language": "python",
   "name": "python3"
  },
  "language_info": {
   "codemirror_mode": {
    "name": "ipython",
    "version": 3
   },
   "file_extension": ".py",
   "mimetype": "text/x-python",
   "name": "python",
   "nbconvert_exporter": "python",
   "pygments_lexer": "ipython3",
   "version": "3.13.5"
  }
 },
 "nbformat": 4,
 "nbformat_minor": 5
}
