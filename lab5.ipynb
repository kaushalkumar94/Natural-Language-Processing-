{
 "cells": [
  {
   "cell_type": "markdown",
   "id": "3738e120-39f4-44bd-9916-3a7fc71763b0",
   "metadata": {},
   "source": [
    "## Augumented Grammar"
   ]
  },
  {
   "cell_type": "code",
   "execution_count": 3,
   "id": "5f7b838e-bf2b-4f8c-926f-7321c9ab5e88",
   "metadata": {},
   "outputs": [
    {
     "name": "stdout",
     "output_type": "stream",
     "text": [
      "['these', 'dogs']\n",
      "(NP[NUM='pl'] (DT[NUM='pl'] these) (N[NUM='pl'] dogs))\n"
     ]
    }
   ],
   "source": [
    "##Implementing the grammar of our own \n",
    "import nltk\n",
    "from nltk.grammar import FeatureGrammar\n",
    "from nltk import parse\n",
    "\n",
    "grammar = \"\"\"\n",
    "% start NP\n",
    "NP[NUM=?n] -> DT[NUM=?n] N[NUM=?n]\n",
    "DT[NUM=sg] -> 'this'\n",
    "DT[NUM=pl] -> 'these'\n",
    "N[NUM=sg] -> 'dog'\n",
    "N[NUM=pl] -> 'dogs'\n",
    "\"\"\"\n",
    "sent = \"these dogs\"\n",
    "tokens = sent.split()\n",
    "print(tokens)  \n",
    "\n",
    "\n",
    "gr = FeatureGrammar.fromstring(grammar)\n",
    "\n",
    "parser = parse.FeatureEarleyChartParser(gr)\n",
    "for tree in parser.parse(tokens):\n",
    "    print(tree)\n"
   ]
  },
  {
   "cell_type": "code",
   "execution_count": null,
   "id": "b7107cc3-1b87-4da2-8171-7a257ee44a5d",
   "metadata": {},
   "outputs": [],
   "source": [
    "## basic chart parsing \n",
    "import nltk\n",
    "grammar = nltk.CFG.fromstring(\"\"\"\n",
    "  S -> NP VP\n",
    "  NP -> Det N\n",
    "  VP -> V NP\n",
    "  Det -> 'the'\n",
    "  N -> 'dog' | 'cat'\n",
    "  V -> 'chased' | 'saw'\n",
    "\"\"\")"
   ]
  },
  {
   "cell_type": "code",
   "execution_count": 32,
   "id": "da9415fd-f1bd-44fb-bdd4-8a59ad790bac",
   "metadata": {},
   "outputs": [
    {
     "name": "stdout",
     "output_type": "stream",
     "text": [
      "(S (NP (Det the) (N dog)) (VP (V chased) (NP (Det the) (N cat))))\n"
     ]
    }
   ],
   "source": [
    "sentence = \"the dog chased the cat\".split()\n",
    "parser = nltk.ChartParser(grammar)\n",
    "for tree in parser.parse(sentence):\n",
    "    print(tree)"
   ]
  },
  {
   "cell_type": "code",
   "execution_count": 16,
   "id": "a8f60d72-4e82-42a8-a713-2a0bf566bef1",
   "metadata": {},
   "outputs": [
    {
     "name": "stdout",
     "output_type": "stream",
     "text": [
      "              S               \n",
      "      ________|_____           \n",
      "     |              VP        \n",
      "     |         _____|___       \n",
      "     NP       |         NP    \n",
      "  ___|___     |      ___|___   \n",
      "Det      N    V    Det      N \n",
      " |       |    |     |       |  \n",
      "the     dog chased the     cat\n",
      "\n"
     ]
    }
   ],
   "source": [
    "tree.pretty_print()"
   ]
  },
  {
   "cell_type": "code",
   "execution_count": null,
   "id": "15ace024-9737-435c-b204-9cabd3d1c7be",
   "metadata": {},
   "outputs": [],
   "source": [
    " "
   ]
  },
  {
   "cell_type": "code",
   "execution_count": 23,
   "id": "fd572900-cf77-4a47-a93f-8ccfd249d67c",
   "metadata": {},
   "outputs": [
    {
     "name": "stdout",
     "output_type": "stream",
     "text": [
      "[ NUM   = 'sg'   ]\n",
      "[ TENSE = 'past' ]\n"
     ]
    }
   ],
   "source": [
    "import nltk\n",
    "fs1 = nltk.FeatStruct(TENSE='past', NUM='sg')\n",
    "print(fs1)"
   ]
  },
  {
   "cell_type": "code",
   "execution_count": 24,
   "id": "bfc10c5d-9a7a-425c-8a99-9a8a589ed50d",
   "metadata": {},
   "outputs": [
    {
     "name": "stdout",
     "output_type": "stream",
     "text": [
      "fem\n"
     ]
    }
   ],
   "source": [
    "# Create another feature structure with person, number, gender\n",
    "fs1 = nltk.FeatStruct(PER=3, NUM='pl', GND='fem')\n",
    "print(fs1['GND'])  # Access a feature value"
   ]
  },
  {
   "cell_type": "code",
   "execution_count": 35,
   "id": "de54babe-634f-47c4-b8c4-e4565084d2df",
   "metadata": {},
   "outputs": [
    {
     "name": "stdout",
     "output_type": "stream",
     "text": [
      "[ AGR = [ ADDRESS1 = [ NUMBER = 74           ] ] ]\n",
      "[       [            [ STREET = 'rue Pascal' ] ] ]\n",
      "[                                                ]\n",
      "[ POS = 'N'                                      ]\n",
      "[ ADDRESS1 = [ NUMBER = 74           ] ]\n",
      "[            [ STREET = 'rue Pascal' ] ]\n"
     ]
    }
   ],
   "source": [
    "# Create nested feature structure with agreement feature\n",
    "fs2 = nltk.FeatStruct(POS='N', AGR=fs1)\n",
    "print(fs2)\n",
    "print(fs2['AGR'])\n"
   ]
  },
  {
   "cell_type": "code",
   "execution_count": 26,
   "id": "2bf9f8b5-8dec-4c1e-b0b4-2729c0dbb513",
   "metadata": {},
   "outputs": [
    {
     "name": "stdout",
     "output_type": "stream",
     "text": [
      "[       [ GND = 'fem' ] ]\n",
      "[ AGR = [ NUM = 'pl'  ] ]\n",
      "[       [ PER = 3     ] ]\n",
      "[                       ]\n",
      "[ POS = 'N'             ]\n"
     ]
    }
   ],
   "source": [
    "# Create feature structure using bracketed string notation\n",
    "fs3 = nltk.FeatStruct(\"[POS='N', AGR=[PER=3, NUM='pl', GND='fem']]\")\n",
    "print(fs3)"
   ]
  },
  {
   "cell_type": "code",
   "execution_count": 27,
   "id": "e0ce2dbc-5b1d-44b5-991f-9cb711088ce5",
   "metadata": {},
   "outputs": [
    {
     "name": "stdout",
     "output_type": "stream",
     "text": [
      "[ age   = 33               ]\n",
      "[ name  = 'Lee'            ]\n",
      "[ telno = '01 27 86 42 96' ]\n"
     ]
    }
   ],
   "source": [
    "# Feature structure with arbitrary attributes\n",
    "fs4 = nltk.FeatStruct(name='Lee', telno='01 27 86 42 96', age=33)\n",
    "print(fs4)"
   ]
  },
  {
   "cell_type": "markdown",
   "id": "569107ec-34c4-4914-9ed2-277a2a342a4a",
   "metadata": {},
   "source": [
    "## Unification"
   ]
  },
  {
   "cell_type": "code",
   "execution_count": 29,
   "id": "6dd1ebf9-6274-4b64-b2ec-2ae00eceea7d",
   "metadata": {},
   "outputs": [
    {
     "name": "stdout",
     "output_type": "stream",
     "text": [
      "[ CITY   = 'Paris'      ]\n",
      "[ NUMBER = 74           ]\n",
      "[ STREET = 'rue Pascal' ]\n"
     ]
    }
   ],
   "source": [
    "import nltk\n",
    "\n",
    "fs1 = nltk.FeatStruct(NUMBER=74, STREET='rue Pascal')\n",
    "fs2 = nltk.FeatStruct(CITY='Paris')\n",
    "print(fs1.unify(fs2))"
   ]
  },
  {
   "cell_type": "code",
   "execution_count": 31,
   "id": "fd6077f3-a1c9-4872-b94f-e9e445f8c392",
   "metadata": {},
   "outputs": [
    {
     "name": "stdout",
     "output_type": "stream",
     "text": [
      "[ ADDRESS1 = (1) [ NUMBER = 74           ] ]\n",
      "[                [ STREET = 'rue Pascal' ] ]\n",
      "[                                          ]\n",
      "[ ADDRESS2 -> (1)                          ]\n"
     ]
    }
   ],
   "source": [
    "# Combines both as no conflicts\n",
    "\n",
    "print(fs2.unify(fs1))"
   ]
  },
  {
   "cell_type": "code",
   "execution_count": 36,
   "id": "10b040b9-039c-4ccf-8c33-9dc4f30528e7",
   "metadata": {},
   "outputs": [
    {
     "name": "stdout",
     "output_type": "stream",
     "text": [
      "None\n"
     ]
    }
   ],
   "source": [
    "# Same result when order reversed\n",
    "fs0 = nltk.FeatStruct(A='a')\n",
    "fs1 = nltk.FeatStruct(A='b')\n",
    "fs2 = fs0.unify(fs1)\n",
    "print(fs2)"
   ]
  },
  {
   "cell_type": "code",
   "execution_count": 37,
   "id": "7751d255-e962-480f-a4fb-957678a7b650",
   "metadata": {},
   "outputs": [
    {
     "name": "stdout",
     "output_type": "stream",
     "text": [
      "[ ADDRESS1 = ?x ]\n",
      "[ ADDRESS2 = ?x ]\n"
     ]
    }
   ],
   "source": [
    "\n",
    "fs1 = nltk.FeatStruct(\"[ADDRESS1=[NUMBER=74, STREET='rue Pascal']]\")\n",
    "fs2 = nltk.FeatStruct(\"[ADDRESS1=?x, ADDRESS2=?x]\")\n",
    "print(fs2)"
   ]
  },
  {
   "cell_type": "code",
   "execution_count": 38,
   "id": "507069d3-65f9-4d4e-a8c6-19454700796d",
   "metadata": {},
   "outputs": [
    {
     "name": "stdout",
     "output_type": "stream",
     "text": [
      "[ ADDRESS1 = (1) [ NUMBER = 74           ] ]\n",
      "[                [ STREET = 'rue Pascal' ] ]\n",
      "[                                          ]\n",
      "[ ADDRESS2 -> (1)                          ]\n"
     ]
    }
   ],
   "source": [
    "# Unifies ADDRESS1 and ADDRESS2 with same concrete ADDRESS1 content\n",
    "print(fs2.unify(fs1))\n",
    "\n"
   ]
  },
  {
   "cell_type": "code",
   "execution_count": null,
   "id": "a5c0be5e-c5e8-4b9b-b650-da6d620e5a76",
   "metadata": {},
   "outputs": [],
   "source": []
  },
  {
   "cell_type": "code",
   "execution_count": null,
   "id": "bf35624e-70c3-4bcf-9459-eb7a78ced75e",
   "metadata": {},
   "outputs": [],
   "source": []
  }
 ],
 "metadata": {
  "kernelspec": {
   "display_name": "Python 3 (ipykernel)",
   "language": "python",
   "name": "python3"
  },
  "language_info": {
   "codemirror_mode": {
    "name": "ipython",
    "version": 3
   },
   "file_extension": ".py",
   "mimetype": "text/x-python",
   "name": "python",
   "nbconvert_exporter": "python",
   "pygments_lexer": "ipython3",
   "version": "3.13.5"
  }
 },
 "nbformat": 4,
 "nbformat_minor": 5
}
