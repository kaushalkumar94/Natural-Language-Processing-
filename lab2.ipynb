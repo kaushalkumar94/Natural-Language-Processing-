{
 "cells": [
  {
   "cell_type": "markdown",
   "id": "7b7edc43-f412-4233-b391-b9f3e07df31e",
   "metadata": {},
   "source": [
    "## STEMMING\n",
    "\n"
   ]
  },
  {
   "cell_type": "code",
   "execution_count": 1,
   "id": "4001a794-d074-4386-8ce2-1823879b4576",
   "metadata": {},
   "outputs": [
    {
     "name": "stdout",
     "output_type": "stream",
     "text": [
      "Original Words:  ['playing', 'played', 'plays', 'player', 'connects', 'connected', 'connection']\n",
      "Stemmed Words:   ['play', 'play', 'play', 'player', 'connect', 'connect', 'connect']\n"
     ]
    }
   ],
   "source": [
    "# using porter stermmer\n",
    "from nltk.stem import PorterStemmer\n",
    "\n",
    "stemmer = PorterStemmer()\n",
    "words = [\"playing\", \"played\", \"plays\", \"player\", \"connects\", \"connected\", \"connection\"]\n",
    "stems = [stemmer.stem(word) for word in words]\n",
    "print(\"Original Words: \", words)\n",
    "\n"
   ]
  },
  {
   "cell_type": "code",
   "execution_count": 33,
   "id": "7eaf05cb-5e8f-4d93-ade3-da23f415006b",
   "metadata": {},
   "outputs": [
    {
     "name": "stdout",
     "output_type": "stream",
     "text": [
      "Stemmed Words:   ['punjab', 'univers', 'is', 'among', 'the', 'oldest', 'univers', 'in', 'india', 'it', 'provid', 'excel', 'educ', 'and', 'research', 'opportun', 'student', 'attend', 'attend', 'or', 'attend', 'the', 'univers', 'often', 'pursu', 'career', 'in', 'educ', 'research', 'or', 'industri', 'the', 'univers', 'has', 'been', 'connect', 'countless', 'learner', 'and', 'teacher']\n"
     ]
    }
   ],
   "source": [
    "print(\"Stemmed Words:  \", stems)"
   ]
  },
  {
   "cell_type": "code",
   "execution_count": 44,
   "id": "ec8c2114-d055-43e1-b1fc-b16217bccfbc",
   "metadata": {},
   "outputs": [
    {
     "name": "stdout",
     "output_type": "stream",
     "text": [
      "Original Words:\n",
      "['Punjab', 'University', '?', '?', 'is', 'among', 'the', 'oldest', 'universities', 'in', 'India', '.', 'It', 'provides', 'excellent', 'educational', 'and', 'research', 'opportunities', '.', 'Students', 'attending', ',', 'attended', ',', 'or', 'attending', 'the', 'university', 'often', 'pursue', 'careers', 'in', 'education', ',', 'research', ',', 'or', 'industry', '.', 'The', 'university', 'has', 'been', 'connecting', 'countless', 'learners', 'and', 'teachers', '.']\n",
      "\n",
      "Stemmed Words:\n",
      "['punjab', 'univers', 'is', 'among', 'the', 'oldest', 'univers', 'in', 'india', 'it', 'provid', 'excel', 'educ', 'and', 'research', 'opportun', 'student', 'attend', 'attend', 'or', 'attend', 'the', 'univers', 'often', 'pursu', 'career', 'in', 'educ', 'research', 'or', 'industri', 'the', 'univers', 'ha', 'been', 'connect', 'countless', 'learner', 'and', 'teacher']\n"
     ]
    }
   ],
   "source": [
    "from nltk.stem import PorterStemmer\n",
    "from nltk.tokenize import word_tokenize\n",
    "\n",
    "text = r\"\"\"\n",
    "Punjab University ?? is among the oldest universities in India. \n",
    "It provides excellent educational and research opportunities. \n",
    "Students attending, attended, or attending the university often \n",
    "pursue careers in education, research, or industry. \n",
    "The university has been connecting countless learners and teachers.\n",
    "\"\"\"\n",
    "\n",
    "porter = PorterStemmer()\n",
    "words = word_tokenize(text)\n",
    "\n",
    "import string\n",
    "stems = [porter.stem(word) for word in words if word not in string.punctuation]\n",
    "\n",
    "print(\"Original Words:\")\n",
    "print(words)\n",
    "print(\"\\nStemmed Words:\")\n",
    "print(stems)\n",
    "\n",
    " "
   ]
  },
  {
   "cell_type": "code",
   "execution_count": 34,
   "id": "36b2fae3-4bd3-4783-991f-40d628555600",
   "metadata": {},
   "outputs": [
    {
     "name": "stdout",
     "output_type": "stream",
     "text": [
      "\n",
      "Stemmed Words:\n",
      "['punjab', 'univers', 'is', 'among', 'the', 'oldest', 'univers', 'in', 'india', 'it', 'provid', 'excel', 'educ', 'and', 'research', 'opportun', 'student', 'attend', 'attend', 'or', 'attend', 'the', 'univers', 'often', 'pursu', 'career', 'in', 'educ', 'research', 'or', 'industri', 'the', 'univers', 'has', 'been', 'connect', 'countless', 'learner', 'and', 'teacher']\n"
     ]
    }
   ],
   "source": [
    "print(\"\\nStemmed Words:\")\n",
    "print(stems)"
   ]
  },
  {
   "cell_type": "code",
   "execution_count": 48,
   "id": "616c4371-37f1-4d73-ad60-ec2e9312f16f",
   "metadata": {},
   "outputs": [],
   "source": [
    "from nltk.stem import LancasterStemmer\n",
    "\n",
    "text = r\"\"\"\n",
    "Punjab University ?? is among the oldest universities in India. \n",
    "It provides excellent educational and research opportunities. \n",
    "Students attending, attended, or attending the university often \n",
    "pursue careers in education, research, or industry. \n",
    "The university has been connecting countless learners and teachers.\n",
    "\"\"\"  \n",
    "stemmer = LancasterStemmer()\n",
    "words = word_tokenize(text)\n",
    "\n",
    "import string\n",
    "stems = [stemmer.stem(word) for word in words if word not in string.punctuation]\n",
    "\n"
   ]
  },
  {
   "cell_type": "code",
   "execution_count": 49,
   "id": "2f6edd8f-bf5b-4df4-8d74-ec0c99fe1ccb",
   "metadata": {},
   "outputs": [
    {
     "name": "stdout",
     "output_type": "stream",
     "text": [
      "\n",
      "Stemmed Words:\n",
      "['punjab', 'univers', 'is', 'among', 'the', 'oldest', 'univers', 'in', 'ind', 'it', 'provid', 'excel', 'educ', 'and', 'research', 'opportun', 'stud', 'attend', 'attend', 'or', 'attend', 'the', 'univers', 'oft', 'pursu', 'car', 'in', 'educ', 'research', 'or', 'industry', 'the', 'univers', 'has', 'been', 'connect', 'countless', 'learn', 'and', 'teach']\n"
     ]
    }
   ],
   "source": [
    "\n",
    "print(\"\\nStemmed Words:\")\n",
    "print(stems)"
   ]
  },
  {
   "cell_type": "code",
   "execution_count": 53,
   "id": "41f3483b-1caa-4830-80f7-a9a26ad643f4",
   "metadata": {},
   "outputs": [
    {
     "name": "stdout",
     "output_type": "stream",
     "text": [
      "['punjab', 'univers', 'is', 'among', 'the', 'oldest', 'univers', 'in', 'india', 'it', 'provid', 'excel', 'educ', 'and', 'research', 'opportun', 'student', 'attend', 'attend', 'or', 'attend', 'the', 'univers', 'often', 'pursu', 'career', 'in', 'educ', 'research', 'or', 'industri', 'the', 'univers', 'has', 'been', 'connect', 'countless', 'learner', 'and', 'teacher']\n"
     ]
    }
   ],
   "source": [
    "from nltk.stem import SnowballStemmer\n",
    "from nltk.tokenize import word_tokenize\n",
    "import string\n",
    "\n",
    "text = \"\"\"\n",
    "Punjab University is among the oldest universities in India. \n",
    "It provides excellent educational and research opportunities. \n",
    "Students attending, attended, or attending the university often \n",
    "pursue careers in education, research, or industry. \n",
    "The university has been connecting countless learners and teachers.\n",
    "\"\"\"\n",
    "stemmer = SnowballStemmer('english')\n",
    "words = word_tokenize(text)\n",
    "\n",
    "stems = [stemmer.stem(word) for word in words if word not in string.punctuation]\n",
    "print(stems)\n"
   ]
  },
  {
   "cell_type": "code",
   "execution_count": null,
   "id": "272435ae-7bf6-4795-a517-9859368c1af7",
   "metadata": {},
   "outputs": [],
   "source": []
  },
  {
   "cell_type": "markdown",
   "id": "133877f7-0ebb-4da4-979b-bb1eac49f31d",
   "metadata": {},
   "source": [
    "## LEMMATIZATION\n"
   ]
  },
  {
   "cell_type": "code",
   "execution_count": 25,
   "id": "3d742940-1c08-42ef-be98-197db2223cca",
   "metadata": {},
   "outputs": [
    {
     "name": "stderr",
     "output_type": "stream",
     "text": [
      "[nltk_data] Downloading package wordnet to\n",
      "[nltk_data]     C:\\Users\\kaush\\AppData\\Roaming\\nltk_data...\n"
     ]
    },
    {
     "name": "stdout",
     "output_type": "stream",
     "text": [
      "Original Words:\n",
      "['Punjab', 'University', 'is', 'among', 'the', 'oldest', 'universities', 'in', 'India.', 'It', 'provides', 'excellent', 'educational', 'and', 'research', 'opportunities.', 'Students', 'attending,', 'attended,', 'or', 'attending', 'the', 'university', 'often', 'pursue', 'careers', 'in', 'education,', 'research,', 'or', 'industry.', 'The', 'university', 'has', 'been', 'connecting', 'countless', 'learners', 'and', 'teachers.']\n",
      "\n",
      "Lemmatized Words:\n",
      "['Punjab', 'University', 'is', 'among', 'the', 'oldest', 'university', 'in', 'India', 'It', 'provides', 'excellent', 'educational', 'and', 'research', 'opportunity', 'Students', 'attending', 'attended', 'or', 'attending', 'the', 'university', 'often', 'pursue', 'career', 'in', 'education', 'research', 'or', 'industry', 'The', 'university', 'ha', 'been', 'connecting', 'countless', 'learner', 'and', 'teacher']\n"
     ]
    }
   ],
   "source": [
    "import nltk\n",
    "nltk.download('wordnet')\n",
    "from nltk.stem import WordNetLemmatizer\n",
    "from nltk.corpus import wordnet\n",
    "\n",
    "text = r\"\"\"\n",
    "Punjab University is among the oldest universities in India. \n",
    "It provides excellent educational and research opportunities. \n",
    "Students attending, attended, or attending the university often \n",
    "pursue careers in education, research, or industry. \n",
    "The university has been connecting countless learners and teachers.\n",
    "\"\"\"\n",
    "\n",
    "words = text.split()\n",
    "lemmatizer = WordNetLemmatizer()\n",
    "import string\n",
    "lemmas = [lemmatizer.lemmatize(word.strip(string.punctuation)) for word in words]\n",
    "\n",
    "print(\"Original Words:\")\n",
    "print(words)\n",
    "print(\"\\nLemmatized Words:\")\n",
    "print(lemmas)\n"
   ]
  },
  {
   "cell_type": "markdown",
   "id": "a95d9753-eb24-496d-ba9b-f156b5e13e00",
   "metadata": {},
   "source": [
    "## WORDNET\n",
    "\n"
   ]
  },
  {
   "cell_type": "code",
   "execution_count": 29,
   "id": "0373f0a2-54ff-4019-8271-1d4e2e8eaaaf",
   "metadata": {},
   "outputs": [
    {
     "name": "stdout",
     "output_type": "stream",
     "text": [
      "Synset name: university.n.01\n",
      "Part of Speech: n\n",
      "Definition: the body of faculty and students at a university\n",
      "Lemmas: ['university']\n",
      "----------------------------------------\n",
      "Synset name: university.n.02\n",
      "Part of Speech: n\n",
      "Definition: establishment where a seat of higher learning is housed, including administrative and living quarters as well as facilities for research and teaching\n",
      "Lemmas: ['university']\n",
      "----------------------------------------\n",
      "Synset name: university.n.03\n",
      "Part of Speech: n\n",
      "Definition: a large and diverse institution of higher learning created to educate for life and for a profession and to grant degrees\n",
      "Lemmas: ['university']\n",
      "----------------------------------------\n"
     ]
    }
   ],
   "source": [
    "#getting synnsets\n",
    "\n",
    "from nltk.corpus import wordnet\n",
    "\n",
    "word = 'university'\n",
    "synsets = wordnet.synsets(word)\n",
    "\n",
    "for syn in synsets:\n",
    "    print(\"Synset name:\", syn.name())\n",
    "    print(\"Part of Speech:\", syn.pos())\n",
    "    print(\"Definition:\", syn.definition())\n",
    "    print(\"Lemmas:\", syn.lemma_names())\n",
    "    print(\"-\" * 40)\n"
   ]
  },
  {
   "cell_type": "code",
   "execution_count": 30,
   "id": "d8b7ce7e-aec0-4263-9bf6-03e18909d7e4",
   "metadata": {},
   "outputs": [
    {
     "name": "stdout",
     "output_type": "stream",
     "text": [
      "Synset ID: research.n.01\n",
      "Lemmas: ['research']\n",
      "------------------------------\n",
      "Synset ID: inquiry.n.01\n",
      "Lemmas: ['inquiry', 'enquiry', 'research']\n",
      "------------------------------\n",
      "Synset ID: research.v.01\n",
      "Lemmas: ['research']\n",
      "------------------------------\n",
      "Synset ID: research.v.02\n",
      "Lemmas: ['research', 'search', 'explore']\n",
      "------------------------------\n"
     ]
    }
   ],
   "source": [
    "## getting all the lemmas of a synnset\n",
    "from nltk.corpus import wordnet\n",
    "\n",
    "synsets = wordnet.synsets('research')\n",
    "for syn in synsets:\n",
    "    print(\"Synset ID:\", syn.name())\n",
    "    print(\"Lemmas:\", syn.lemma_names())\n",
    "    print('-' * 30)\n"
   ]
  },
  {
   "cell_type": "code",
   "execution_count": 31,
   "id": "c9359852-aaa8-4ebd-b8f9-ff3d1eb0f1ab",
   "metadata": {},
   "outputs": [
    {
     "name": "stdout",
     "output_type": "stream",
     "text": [
      "['mexican_hairless.n.01', 'puppy.n.01', 'working_dog.n.01', 'hunting_dog.n.01', 'poodle.n.01', 'newfoundland.n.01', 'corgi.n.01', 'leonberg.n.01', 'cur.n.01', 'pug.n.01', 'dalmatian.n.02', 'lapdog.n.01', 'pooch.n.01', 'spitz.n.01', 'basenji.n.01', 'griffon.n.02', 'great_pyrenees.n.01', 'toy_dog.n.01']\n"
     ]
    }
   ],
   "source": [
    "# FINDING HYPONYMNS AND HYPERNYMS \n",
    "from nltk.corpus import wordnet as wn\n",
    "\n",
    "dog = wn.synset('dog.n.01')         \n",
    "print([hypo.name() for hypo in dog.hyponyms()])           \n",
    " \n"
   ]
  },
  {
   "cell_type": "code",
   "execution_count": 32,
   "id": "67ed503c-fcbb-442d-a10c-f3a1b5726a75",
   "metadata": {},
   "outputs": [
    {
     "name": "stdout",
     "output_type": "stream",
     "text": [
      "['domestic_animal.n.01', 'canine.n.02']\n"
     ]
    }
   ],
   "source": [
    "print([hyper.name() for hyper in dog.hypernyms()])"
   ]
  }
 ],
 "metadata": {
  "kernelspec": {
   "display_name": "Python 3 (ipykernel)",
   "language": "python",
   "name": "python3"
  },
  "language_info": {
   "codemirror_mode": {
    "name": "ipython",
    "version": 3
   },
   "file_extension": ".py",
   "mimetype": "text/x-python",
   "name": "python",
   "nbconvert_exporter": "python",
   "pygments_lexer": "ipython3",
   "version": "3.13.5"
  }
 },
 "nbformat": 4,
 "nbformat_minor": 5
}
